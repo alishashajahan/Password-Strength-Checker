{
 "cells": [
  {
   "cell_type": "code",
   "execution_count": 13,
   "id": "8db5b530-7639-4135-8901-dbf21f9e4ebc",
   "metadata": {},
   "outputs": [
    {
     "name": "stdin",
     "output_type": "stream",
     "text": [
      "Enter your password:  3*Shajahan\n"
     ]
    },
    {
     "name": "stdout",
     "output_type": "stream",
     "text": [
      "Password is strong.\n"
     ]
    }
   ],
   "source": [
    "import re\n",
    "\n",
    "password = input(\"Enter your password: \")\n",
    "\n",
    "if len(password) < 10:\n",
    "    print(\"Password must be at least 10 characters long.\")\n",
    "# Suppose we need uppercase letters in our password\n",
    "elif not re.search(\"[A-Z]\", password):\n",
    "    print(\"Password must contain at least one uppercase letter.\")\n",
    "# Suppose we need lowercase letters in our password\n",
    "elif not re.search(\"[a-z]\", password):\n",
    "    print(\"Password must contain at least one lowercase letter.\")\n",
    "# Suppose we need digits in our password\n",
    "elif not re.search(\"[0-9]\", password):\n",
    "    print(\"Password must contain at least one digit.\")\n",
    "else:\n",
    "    print(\"Password is strong.\")\n",
    "\n",
    "\n"
   ]
  }
 ],
 "metadata": {
  "kernelspec": {
   "display_name": "Python 3 (ipykernel)",
   "language": "python",
   "name": "python3"
  },
  "language_info": {
   "codemirror_mode": {
    "name": "ipython",
    "version": 3
   },
   "file_extension": ".py",
   "mimetype": "text/x-python",
   "name": "python",
   "nbconvert_exporter": "python",
   "pygments_lexer": "ipython3",
   "version": "3.12.4"
  }
 },
 "nbformat": 4,
 "nbformat_minor": 5
}
